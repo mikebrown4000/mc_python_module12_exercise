{
 "cells": [
  {
   "cell_type": "markdown",
   "metadata": {},
   "source": [
    "### Exercise 1. \n",
    "Create a dictionary named pairs with key value pairs of:\n",
    "    - 'hello' and 'fire', \n",
    "    - 3 and 'seven', \n",
    "    - 'strong' and 45. \n",
    "\n",
    "Then, print out the dictionary."
   ]
  },
  {
   "cell_type": "code",
   "execution_count": 3,
   "metadata": {},
   "outputs": [
    {
     "name": "stdout",
     "output_type": "stream",
     "text": [
      "{'hello': 'fire', -3: 'seven', 'strong': 45}\n"
     ]
    }
   ],
   "source": [
    "pairs = {\n",
    "    'hello' : 'fire',\n",
    "    -3 : 'seven',\n",
    "    'strong' : 45\n",
    "    }\n",
    "print(pairs)"
   ]
  },
  {
   "cell_type": "markdown",
   "metadata": {},
   "source": [
    "### Exercise 2. \n",
    "Add 'welcome' and 56 pair into <b><i>pairs</i></b> dictionary from exercise 1. Then, print out the dictionary. "
   ]
  },
  {
   "cell_type": "code",
   "execution_count": 10,
   "metadata": {},
   "outputs": [
    {
     "name": "stdout",
     "output_type": "stream",
     "text": [
      "{'hello': 'fire', -3: 'seven', 'strong': 45, 'welcome': 56}\n"
     ]
    }
   ],
   "source": [
    "pairs['welcome'] = 56\n",
    "print(pairs)\n"
   ]
  },
  {
   "cell_type": "markdown",
   "metadata": {},
   "source": [
    "### Exercise 3. \n",
    "Delete one item from <b><i>pairs</i></b> dictionary. Then, print deleted item and the dictionary."
   ]
  },
  {
   "cell_type": "code",
   "execution_count": 11,
   "metadata": {},
   "outputs": [
    {
     "name": "stdout",
     "output_type": "stream",
     "text": [
      "56 {'hello': 'fire', -3: 'seven', 'strong': 45}\n"
     ]
    }
   ],
   "source": [
    "del_item =  pairs.pop('welcome')\n",
    "print(del_item, pairs)"
   ]
  },
  {
   "cell_type": "markdown",
   "metadata": {},
   "source": [
    "### Exercise 4. \n",
    "Print the value of an item where key is 3 in <b><i>pairs</i></b> dicitonary"
   ]
  },
  {
   "cell_type": "code",
   "execution_count": 16,
   "metadata": {},
   "outputs": [
    {
     "name": "stdout",
     "output_type": "stream",
     "text": [
      "seven\n"
     ]
    }
   ],
   "source": [
    "print(pairs.get(-3))"
   ]
  },
  {
   "cell_type": "markdown",
   "metadata": {},
   "source": [
    "### Exercise 5. \n",
    "Try to find out if the key called 'hello' exist in <b><i>pairs</i></b> dictionary. Print 'key is found' message if the key exists otherwise print 'key is not there'."
   ]
  },
  {
   "cell_type": "code",
   "execution_count": 18,
   "metadata": {},
   "outputs": [
    {
     "name": "stdout",
     "output_type": "stream",
     "text": [
      "Key Found\n"
     ]
    }
   ],
   "source": [
    "if pairs.get('hello'):\n",
    "    print('Key Found')\n",
    "else:\n",
    "    print('Key Not Found')"
   ]
  },
  {
   "cell_type": "markdown",
   "metadata": {},
   "source": [
    "### Exercise 6. \n",
    "Create a Test Scores program that gets the name of students and test score from a user. Then, generate a list of students who passed and a list of students who failed where passing test score is 60 or above. "
   ]
  },
  {
   "cell_type": "code",
   "execution_count": 31,
   "metadata": {},
   "outputs": [
    {
     "name": "stdout",
     "output_type": "stream",
     "text": [
      "['Mikey', 'Sonic The Hedgehog']\n"
     ]
    },
    {
     "data": {
      "text/plain": [
       "['Mikey', 'Sonic The Hedgehog']"
      ]
     },
     "execution_count": 31,
     "metadata": {},
     "output_type": "execute_result"
    }
   ],
   "source": [
    "tests = {\n",
    "    'Mikey' : 90,\n",
    "    'tammy' : 45,\n",
    "    'Sonic The Hedgehog' : 100,\n",
    "    'Elon Musker' : 32\n",
    "}\n",
    "\n",
    "def sort_passed(obj):\n",
    "    passed = []\n",
    "    for key, value in obj.items():\n",
    "        if value > 60:\n",
    "            passed.append(key)\n",
    "    print(passed)\n",
    "    return passed\n",
    "\n",
    "sort_passed(tests)"
   ]
  },
  {
   "cell_type": "code",
   "execution_count": null,
   "metadata": {},
   "outputs": [],
   "source": []
  },
  {
   "cell_type": "markdown",
   "metadata": {},
   "source": [
    "### Exercise 7. \n",
    "\n",
    "Create a Word Counter program that gets a string of text from a user and then counts the number of times a word occrs in the string. \n",
    "\n",
    "The output should look something like this:\n",
    "\n",
    "    The Word Counter Program\n",
    "    \n",
    "    Enter a text string: \n",
    "    Humpty Dumpty sat on a wall, Humpty Dumpty had a great fall. All the king’s horses and all the king’s men couldn’t put Humpty together again.\n",
    "\n",
    "    a : 2\n",
    "    again : 1\n",
    "    all : 2\n",
    "    and : 1\n",
    "    couldn’t : 1\n",
    "    dumpty : 2\n",
    "    fall : 1\n",
    "    great : 1\n",
    "    had : 1\n",
    "    horses : 1\n",
    "    humpty : 3\n",
    "    king’s : 2\n",
    "    men : 1\n",
    "    on : 1\n",
    "    put : 1\n",
    "    sat : 1\n",
    "    the : 2\n",
    "    together : 1\n",
    "    wall : 1\n",
    "\n",
    "    There were total 26 words in the text string   "
   ]
  },
  {
   "cell_type": "code",
   "execution_count": 47,
   "metadata": {},
   "outputs": [
    {
     "name": "stdout",
     "output_type": "stream",
     "text": [
      "{'how': 1, 'about': 1, 'them': 3, 'apples,': 1, 'sonic': 2, 'do': 1, 'you': 2, 'like': 2, 'apples?': 1, 'yeah': 1, 'apples': 1}\n"
     ]
    }
   ],
   "source": [
    "str1 = \"How about them apples, sonic do you like them apples? Yeah sonic you like them apples\"\n",
    "#smooth the input strong\n",
    "str1 = str1.lower()\n",
    "words = str1.split(' ')\n",
    "words_count = {}\n",
    "\n",
    "# we could make a list of symbols and iterate through it to replace them with spaces and then start count\n",
    "\n",
    "for i in words:\n",
    "    if i in words_count:\n",
    "        words_count[i] += 1\n",
    "    else:\n",
    "        words_count[i] = 1\n",
    "\n",
    "print(words_count)"
   ]
  },
  {
   "cell_type": "code",
   "execution_count": null,
   "metadata": {},
   "outputs": [],
   "source": []
  }
 ],
 "metadata": {
  "kernelspec": {
   "display_name": "Python 3 (ipykernel)",
   "language": "python",
   "name": "python3"
  },
  "language_info": {
   "codemirror_mode": {
    "name": "ipython",
    "version": 3
   },
   "file_extension": ".py",
   "mimetype": "text/x-python",
   "name": "python",
   "nbconvert_exporter": "python",
   "pygments_lexer": "ipython3",
   "version": "3.12.2"
  }
 },
 "nbformat": 4,
 "nbformat_minor": 4
}
